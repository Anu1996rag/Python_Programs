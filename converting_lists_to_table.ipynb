{
 "cells": [
  {
   "cell_type": "code",
   "execution_count": 20,
   "metadata": {},
   "outputs": [],
   "source": [
    "#table Printer program\n",
    "\n",
    "tableData = [['apples','oranges','cherries','bananas'],\n",
    "             ['Alice','Bob','Carol','David'],\n",
    "             ['dogs','cats','moose','goose']]"
   ]
  },
  {
   "cell_type": "code",
   "execution_count": 7,
   "metadata": {},
   "outputs": [
    {
     "name": "stdout",
     "output_type": "stream",
     "text": [
      "4\n",
      "4\n",
      "4\n"
     ]
    }
   ],
   "source": [
    "for data in tableData:\n",
    "    print(len(data))"
   ]
  },
  {
   "cell_type": "code",
   "execution_count": 10,
   "metadata": {},
   "outputs": [],
   "source": [
    "colWidths = [0]*len(tableData)"
   ]
  },
  {
   "cell_type": "code",
   "execution_count": 12,
   "metadata": {},
   "outputs": [],
   "source": [
    "colWidths[0] = tableData[0]"
   ]
  },
  {
   "cell_type": "code",
   "execution_count": 36,
   "metadata": {},
   "outputs": [
    {
     "name": "stdout",
     "output_type": "stream",
     "text": [
      "['apples', 'oranges', 'cherries', 'bananas']\n",
      "['Alice', 'Bob', 'Carol', 'David']\n",
      "['dogs', 'cats', 'moose', 'goose']\n"
     ]
    }
   ],
   "source": [
    "for colWidths in tableData:\n",
    "    print(colWidths)"
   ]
  },
  {
   "cell_type": "code",
   "execution_count": 16,
   "metadata": {},
   "outputs": [
    {
     "name": "stdout",
     "output_type": "stream",
     "text": [
      "['apples', 'oranges', 'cherries', 'bananas']\n",
      "['Alice', 'Bob', 'Carol', 'David']\n",
      "['dogs', 'cats', 'moose', 'goose']\n"
     ]
    }
   ],
   "source": [
    "print('\\n'.join([str(data) for data in tableData]))"
   ]
  },
  {
   "cell_type": "code",
   "execution_count": 25,
   "metadata": {},
   "outputs": [
    {
     "name": "stdout",
     "output_type": "stream",
     "text": [
      "apples\n",
      "oranges\n",
      "cherries\n",
      "bananas\n",
      "\n",
      "Alice\n",
      "Bob\n",
      "Carol\n",
      "David\n",
      "\n",
      "dogs\n",
      "cats\n",
      "moose\n",
      "goose\n",
      "\n"
     ]
    }
   ],
   "source": [
    "for data in tableData:\n",
    "    for each_element in data:\n",
    "        print(each_element)\n",
    "    print()"
   ]
  },
  {
   "cell_type": "code",
   "execution_count": 35,
   "metadata": {},
   "outputs": [
    {
     "name": "stdout",
     "output_type": "stream",
     "text": [
      "apples\n",
      "\n",
      "oranges\n",
      "\n",
      "cherries\n",
      "\n",
      "bananas\n",
      "\n",
      "\n",
      "Alice\n",
      "\n",
      "Bob\n",
      "\n",
      "Carol\n",
      "\n",
      "David\n",
      "\n",
      "\n",
      "dogs\n",
      "\n",
      "cats\n",
      "\n",
      "moose\n",
      "\n",
      "goose\n",
      "\n",
      "\n"
     ]
    }
   ],
   "source": [
    "table_len = len(tableData[0])\n",
    "\n",
    "for i in range(len(tableData)):\n",
    "    for j in range(table_len):\n",
    "        print(tableData[i][j])\n",
    "    \n",
    "    print()"
   ]
  },
  {
   "cell_type": "code",
   "execution_count": 39,
   "metadata": {},
   "outputs": [
    {
     "data": {
      "text/plain": [
       "<zip at 0x23109220d88>"
      ]
     },
     "execution_count": 39,
     "metadata": {},
     "output_type": "execute_result"
    }
   ],
   "source": [
    "zip(*[['apples','oranges','cherries','bananas'],\n",
    "             ['Alice','Bob','Carol','David'],\n",
    "             ['dogs','cats','moose','goose']])"
   ]
  },
  {
   "cell_type": "code",
   "execution_count": 49,
   "metadata": {},
   "outputs": [],
   "source": [
    "#table Printer program\n",
    "\n",
    "tableData = [['apples','oranges','cherries','bananas'],\n",
    "             ['Alice','Bob','Carol','David'],\n",
    "             ['dogs','cats','moose','goose']]"
   ]
  },
  {
   "cell_type": "code",
   "execution_count": 58,
   "metadata": {},
   "outputs": [
    {
     "name": "stdout",
     "output_type": "stream",
     "text": [
      "    apples      Alice       dogs\n",
      "   oranges        Bob       cats\n",
      "  cherries      Carol      moose\n",
      "   bananas      David      goose\n"
     ]
    }
   ],
   "source": [
    "for first_list , second_list , third_list in zip(*tableData):\n",
    "    print(first_list.rjust(10),second_list.rjust(10),third_list.rjust(10))"
   ]
  },
  {
   "cell_type": "code",
   "execution_count": 43,
   "metadata": {},
   "outputs": [],
   "source": [
    "fruits = ['apples','oranges','cherries','bananas']"
   ]
  },
  {
   "cell_type": "code",
   "execution_count": 53,
   "metadata": {},
   "outputs": [
    {
     "data": {
      "text/plain": [
       "'cherries'"
      ]
     },
     "execution_count": 53,
     "metadata": {},
     "output_type": "execute_result"
    }
   ],
   "source": [
    "max(tableData[0],key=len)"
   ]
  },
  {
   "cell_type": "code",
   "execution_count": null,
   "metadata": {},
   "outputs": [],
   "source": []
  }
 ],
 "metadata": {
  "kernelspec": {
   "display_name": "Python 3",
   "language": "python",
   "name": "python3"
  },
  "language_info": {
   "codemirror_mode": {
    "name": "ipython",
    "version": 3
   },
   "file_extension": ".py",
   "mimetype": "text/x-python",
   "name": "python",
   "nbconvert_exporter": "python",
   "pygments_lexer": "ipython3",
   "version": "3.7.6"
  }
 },
 "nbformat": 4,
 "nbformat_minor": 4
}
