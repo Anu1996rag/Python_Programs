{
 "cells": [
  {
   "cell_type": "code",
   "execution_count": 1,
   "metadata": {},
   "outputs": [
    {
     "name": "stdout",
     "output_type": "stream",
     "text": [
      "Who are you ?\n",
      "Please enter your name :\n",
      "daw3e\n",
      "Incorrect User name\n",
      "Who are you ?\n",
      "Please enter your name :\n",
      "Gurudas\n",
      "Hello Gurudas !\n",
      "Please enter your password here.\n",
      "f2wfe\n",
      "Password is incorrect.\n",
      "Please enter correct password\n",
      "f32f\n",
      "Who are you ?\n",
      "Please enter your name :\n",
      "wrf2\n",
      "Incorrect User name\n",
      "Who are you ?\n",
      "Please enter your name :\n",
      "Gurudas\n",
      "Hello Gurudas !\n",
      "Please enter your password here.\n",
      "32f323\n",
      "Password is incorrect.\n",
      "Please enter correct password\n",
      "f32f3\n",
      "Who are you ?\n",
      "Please enter your name :\n",
      "Gurudas\n",
      "Hello Gurudas !\n",
      "Please enter your password here.\n",
      "abcd@1999\n",
      "Access Granted !\n"
     ]
    }
   ],
   "source": [
    "#loop will continue forever unless and until correct input is not given\n",
    "\n",
    "while True:\n",
    "    #this asks the user to enter the name\n",
    "    print(\"Who are you ?\\nPlease enter your name :\")\n",
    "    name = input()\n",
    "    \n",
    "    #checks whether the given input matches the saved name or not\n",
    "    if name !='Gurudas':  #if the entered name is not equal to the one that is saved. Here, the name \"Gurudas\"\n",
    "        print(\"Incorrect User name\") \n",
    "        continue  #skips the next part of the loop and goes to the start of the loop \n",
    "    print(\"Hello \"+name+\" !\\nPlease enter your password here.\")\n",
    "    password = input()\n",
    "    \n",
    "    if password == 'abcd@1999': #if the password matches\n",
    "        break  #comes out of the while loop\n",
    "    else:\n",
    "        print(\"Password is incorrect.\\nPlease enter correct password\")\n",
    "        password = input()  #asks the user to enter the correct password.\n",
    "print(\"Access Granted !\")"
   ]
  },
  {
   "cell_type": "code",
   "execution_count": null,
   "metadata": {},
   "outputs": [],
   "source": []
  }
 ],
 "metadata": {
  "kernelspec": {
   "display_name": "Python 3",
   "language": "python",
   "name": "python3"
  },
  "language_info": {
   "codemirror_mode": {
    "name": "ipython",
    "version": 3
   },
   "file_extension": ".py",
   "mimetype": "text/x-python",
   "name": "python",
   "nbconvert_exporter": "python",
   "pygments_lexer": "ipython3",
   "version": "3.7.6"
  }
 },
 "nbformat": 4,
 "nbformat_minor": 4
}
