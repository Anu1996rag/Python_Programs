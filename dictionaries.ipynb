{
 "cells": [
  {
   "cell_type": "markdown",
   "metadata": {},
   "source": [
    "birthdays = {'alice':'dec 12','anne':'apr 14','max':'may 16'}\n",
    "\n"
   ]
  },
  {
   "cell_type": "code",
   "execution_count": 4,
   "metadata": {},
   "outputs": [
    {
     "name": "stdout",
     "output_type": "stream",
     "text": [
      "Enter a name or blank to quit\n",
      "fwe\n",
      "we don't have any birthdays of  fwe\n",
      "Whats the birthday of  fwe\n",
      "23r\n",
      "birthdays database updated...\n",
      "Enter a name or blank to quit\n",
      "fwe\n",
      "23r is the birth day of fwe\n",
      "Enter a name or blank to quit\n",
      "\n"
     ]
    }
   ],
   "source": [
    "while True : #this will run forever\n",
    "    print(\"Enter a name or blank to quit\")\n",
    "    name = input()\n",
    "    \n",
    "    if name =='': #if nothing is given , break out of the loop\n",
    "        break\n",
    "    if name in birthdays:\n",
    "        print(birthdays[name]+' is the birth day of '+name)\n",
    "    else:\n",
    "        print(\"we don't have any birthdays of \",name)\n",
    "        print(\"Whats the birthday of \",name)\n",
    "        bday = input()\n",
    "        birthdays[name]=bday\n",
    "        print(\"birthdays database updated...\")"
   ]
  },
  {
   "cell_type": "markdown",
   "metadata": {},
   "source": [
    "## keys(),values() and items()"
   ]
  },
  {
   "cell_type": "code",
   "execution_count": 5,
   "metadata": {},
   "outputs": [],
   "source": [
    "birthdays = {'alice':'dec 12','anne':'apr 14','max':'may 16'}\n"
   ]
  },
  {
   "cell_type": "code",
   "execution_count": 6,
   "metadata": {},
   "outputs": [
    {
     "data": {
      "text/plain": [
       "dict_keys(['alice', 'anne', 'max'])"
      ]
     },
     "execution_count": 6,
     "metadata": {},
     "output_type": "execute_result"
    }
   ],
   "source": [
    "birthdays.keys()"
   ]
  },
  {
   "cell_type": "code",
   "execution_count": 7,
   "metadata": {},
   "outputs": [
    {
     "name": "stdout",
     "output_type": "stream",
     "text": [
      "alice\n",
      "anne\n",
      "max\n"
     ]
    }
   ],
   "source": [
    "for key in birthdays.keys():\n",
    "    print(key)"
   ]
  },
  {
   "cell_type": "code",
   "execution_count": 8,
   "metadata": {},
   "outputs": [
    {
     "data": {
      "text/plain": [
       "dict_values(['dec 12', 'apr 14', 'may 16'])"
      ]
     },
     "execution_count": 8,
     "metadata": {},
     "output_type": "execute_result"
    }
   ],
   "source": [
    "birthdays.values()"
   ]
  },
  {
   "cell_type": "code",
   "execution_count": 10,
   "metadata": {},
   "outputs": [
    {
     "name": "stdout",
     "output_type": "stream",
     "text": [
      "dec 12\n",
      "apr 14\n",
      "may 16\n"
     ]
    }
   ],
   "source": [
    "for each_value in birthdays.values():\n",
    "    print(each_value)"
   ]
  },
  {
   "cell_type": "code",
   "execution_count": 11,
   "metadata": {},
   "outputs": [
    {
     "data": {
      "text/plain": [
       "dict_items([('alice', 'dec 12'), ('anne', 'apr 14'), ('max', 'may 16')])"
      ]
     },
     "execution_count": 11,
     "metadata": {},
     "output_type": "execute_result"
    }
   ],
   "source": [
    "birthdays.items()"
   ]
  },
  {
   "cell_type": "code",
   "execution_count": 12,
   "metadata": {},
   "outputs": [
    {
     "name": "stdout",
     "output_type": "stream",
     "text": [
      "('alice', 'dec 12')\n",
      "('anne', 'apr 14')\n",
      "('max', 'may 16')\n"
     ]
    }
   ],
   "source": [
    "for item in birthdays.items():\n",
    "    print(item)"
   ]
  },
  {
   "cell_type": "code",
   "execution_count": 16,
   "metadata": {},
   "outputs": [
    {
     "name": "stdout",
     "output_type": "stream",
     "text": [
      "Key: alice \n",
      "Values: dec 12\n",
      "Key: anne \n",
      "Values: apr 14\n",
      "Key: max \n",
      "Values: may 16\n"
     ]
    }
   ],
   "source": [
    "#multiple assignment \n",
    "for key,value in birthdays.items():\n",
    "    print(\"Key:\",key,\"\\nValues:\",value)"
   ]
  },
  {
   "cell_type": "markdown",
   "metadata": {},
   "source": [
    "## setdefault() method"
   ]
  },
  {
   "cell_type": "code",
   "execution_count": 1,
   "metadata": {},
   "outputs": [],
   "source": [
    "birthdays = {'alice':'dec 12','anne':'apr 14','max':'may 16'}"
   ]
  },
  {
   "cell_type": "code",
   "execution_count": 2,
   "metadata": {},
   "outputs": [
    {
     "data": {
      "text/plain": [
       "'black'"
      ]
     },
     "execution_count": 2,
     "metadata": {},
     "output_type": "execute_result"
    }
   ],
   "source": [
    "birthdays.setdefault('color','black')"
   ]
  },
  {
   "cell_type": "code",
   "execution_count": 3,
   "metadata": {},
   "outputs": [
    {
     "data": {
      "text/plain": [
       "{'alice': 'dec 12', 'anne': 'apr 14', 'max': 'may 16', 'color': 'black'}"
      ]
     },
     "execution_count": 3,
     "metadata": {},
     "output_type": "execute_result"
    }
   ],
   "source": [
    "birthdays"
   ]
  },
  {
   "cell_type": "code",
   "execution_count": 4,
   "metadata": {},
   "outputs": [
    {
     "data": {
      "text/plain": [
       "'black'"
      ]
     },
     "execution_count": 4,
     "metadata": {},
     "output_type": "execute_result"
    }
   ],
   "source": [
    "birthdays.setdefault('color','white')"
   ]
  },
  {
   "cell_type": "code",
   "execution_count": 5,
   "metadata": {},
   "outputs": [
    {
     "name": "stdout",
     "output_type": "stream",
     "text": [
      "{'I': 1, 't': 6, ' ': 12, 'w': 2, 'a': 4, 's': 2, 'b': 1, 'r': 5, 'i': 6, 'g': 2, 'h': 3, 'd': 2, 'y': 1, 'n': 4, 'A': 1, 'p': 1, 'l': 2, ',': 1, 'e': 5, 'c': 2, 'o': 1, 'k': 2, '.': 1}\n"
     ]
    }
   ],
   "source": [
    "## Program to count the character \n",
    "\n",
    "message = \"It was a bright day in April ,and the clock were striking thirteen.\"\n",
    "\n",
    "count = {} #empty dictionary\n",
    "\n",
    "for each_character in message :\n",
    "    count.setdefault(each_character,0)\n",
    "    count[each_character] = count[each_character] + 1 \n",
    "print(count)"
   ]
  },
  {
   "cell_type": "markdown",
   "metadata": {},
   "source": [
    "## Pretty printing "
   ]
  },
  {
   "cell_type": "code",
   "execution_count": 8,
   "metadata": {},
   "outputs": [
    {
     "name": "stdout",
     "output_type": "stream",
     "text": [
      "{' ': 12,\n",
      " ',': 1,\n",
      " '.': 1,\n",
      " 'A': 1,\n",
      " 'I': 1,\n",
      " 'a': 4,\n",
      " 'b': 1,\n",
      " 'c': 2,\n",
      " 'd': 2,\n",
      " 'e': 5,\n",
      " 'g': 2,\n",
      " 'h': 3,\n",
      " 'i': 6,\n",
      " 'k': 2,\n",
      " 'l': 2,\n",
      " 'n': 4,\n",
      " 'o': 1,\n",
      " 'p': 1,\n",
      " 'r': 5,\n",
      " 's': 2,\n",
      " 't': 6,\n",
      " 'w': 2,\n",
      " 'y': 1}\n",
      "{' ': 12,\n",
      " ',': 1,\n",
      " '.': 1,\n",
      " 'A': 1,\n",
      " 'I': 1,\n",
      " 'a': 4,\n",
      " 'b': 1,\n",
      " 'c': 2,\n",
      " 'd': 2,\n",
      " 'e': 5,\n",
      " 'g': 2,\n",
      " 'h': 3,\n",
      " 'i': 6,\n",
      " 'k': 2,\n",
      " 'l': 2,\n",
      " 'n': 4,\n",
      " 'o': 1,\n",
      " 'p': 1,\n",
      " 'r': 5,\n",
      " 's': 2,\n",
      " 't': 6,\n",
      " 'w': 2,\n",
      " 'y': 1}\n"
     ]
    }
   ],
   "source": [
    "## writing the above same program using pprint module \n",
    "\n",
    "import pprint #to use the pretty printing feture\n",
    "\n",
    "message = \"It was a bright day in April ,and the clock were striking thirteen.\"\n",
    "\n",
    "count = {} #empty dictionary\n",
    "\n",
    "for each_character in message :\n",
    "    count.setdefault(each_character,0)\n",
    "    count[each_character] = count[each_character] + 1 \n",
    "pprint.pprint(count)  #key values are automatically sorted \n",
    "print(pprint.pformat(count)) #both the statements gives the same result"
   ]
  },
  {
   "cell_type": "code",
   "execution_count": null,
   "metadata": {},
   "outputs": [],
   "source": []
  }
 ],
 "metadata": {
  "kernelspec": {
   "display_name": "Python 3",
   "language": "python",
   "name": "python3"
  },
  "language_info": {
   "codemirror_mode": {
    "name": "ipython",
    "version": 3
   },
   "file_extension": ".py",
   "mimetype": "text/x-python",
   "name": "python",
   "nbconvert_exporter": "python",
   "pygments_lexer": "ipython3",
   "version": "3.7.6"
  }
 },
 "nbformat": 4,
 "nbformat_minor": 4
}
