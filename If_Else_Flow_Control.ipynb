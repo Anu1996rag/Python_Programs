{
 "cells": [
  {
   "cell_type": "code",
   "execution_count": 2,
   "metadata": {},
   "outputs": [
    {
     "name": "stdout",
     "output_type": "stream",
     "text": [
      "Please enter your username :\n",
      "ade\n",
      "Hi ade!\n",
      "Please enter your password :\n",
      "234\n",
      "Access Denied.\n",
      "Please try again...\n",
      "Password :f233\n",
      "Access Denied.\n",
      "Please try again...\n",
      "Password :abcd@1999\n",
      "Access Granted !\n",
      "Welcome ade !\n"
     ]
    }
   ],
   "source": [
    "#this programs asks user for username and password and grants access based on a condition\n",
    "\n",
    "#asks the user to enter username\n",
    "print(\"Please enter your username :\")\n",
    "username = input()\n",
    "\n",
    "#asks user to enter password\n",
    "print(\"Hi \"+username+\"!\"+\"\\n\"+\"Please enter your password :\")\n",
    "password = input()\n",
    "\n",
    "#checks whether the entered password matches the password set already\n",
    "\n",
    "#this loop will execute forever until the correct password is entered\n",
    "while True :\n",
    "    if password == 'abcd@1999': #if the password matched\n",
    "        print(\"Access Granted !\")\n",
    "        print(\"Welcome \" + username + \" !\")\n",
    "        break                   #comes out of the loop as soon as the password matches\n",
    "    else:                       #if the password did not matched\n",
    "        print(\"Access Denied.\\nPlease try again...\")\n",
    "        password = input(\"Password :\") #asks for the password again \n"
   ]
  },
  {
   "cell_type": "code",
   "execution_count": null,
   "metadata": {},
   "outputs": [],
   "source": []
  }
 ],
 "metadata": {
  "kernelspec": {
   "display_name": "Python 3",
   "language": "python",
   "name": "python3"
  },
  "language_info": {
   "codemirror_mode": {
    "name": "ipython",
    "version": 3
   },
   "file_extension": ".py",
   "mimetype": "text/x-python",
   "name": "python",
   "nbconvert_exporter": "python",
   "pygments_lexer": "ipython3",
   "version": "3.7.6"
  }
 },
 "nbformat": 4,
 "nbformat_minor": 4
}
