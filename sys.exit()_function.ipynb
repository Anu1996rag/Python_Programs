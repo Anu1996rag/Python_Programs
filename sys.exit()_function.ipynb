{
 "cells": [
  {
   "cell_type": "code",
   "execution_count": 4,
   "metadata": {},
   "outputs": [
    {
     "name": "stdout",
     "output_type": "stream",
     "text": [
      "Type 'exit' to exit\n",
      "WEFVEW\n",
      "Type 'exit' to exit\n",
      "C32CE\n",
      "Type 'exit' to exit\n",
      "EXIT\n",
      "Type 'exit' to exit\n",
      "exit\n",
      "You typed exit.\n"
     ]
    },
    {
     "ename": "SystemExit",
     "evalue": "",
     "output_type": "error",
     "traceback": [
      "An exception has occurred, use %tb to see the full traceback.\n",
      "\u001b[1;31mSystemExit\u001b[0m\n"
     ]
    }
   ],
   "source": [
    "import sys  #import sys library which contains the exit() method\n",
    "\n",
    "#loop will execute forever until expected input is not given \n",
    "while True :\n",
    "    print(\"Type 'exit' to exit\")\n",
    "    response = input()\n",
    "    \n",
    "    if response == 'exit': #if the keyword matches\n",
    "        print(\"You typed \"+response+\".\")  \n",
    "        sys.exit()  #calls the exit() function\n",
    "    "
   ]
  },
  {
   "cell_type": "code",
   "execution_count": null,
   "metadata": {},
   "outputs": [],
   "source": []
  }
 ],
 "metadata": {
  "kernelspec": {
   "display_name": "Python 3",
   "language": "python",
   "name": "python3"
  },
  "language_info": {
   "codemirror_mode": {
    "name": "ipython",
    "version": 3
   },
   "file_extension": ".py",
   "mimetype": "text/x-python",
   "name": "python",
   "nbconvert_exporter": "python",
   "pygments_lexer": "ipython3",
   "version": "3.7.6"
  }
 },
 "nbformat": 4,
 "nbformat_minor": 4
}
