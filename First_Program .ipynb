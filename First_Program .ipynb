{
 "cells": [
  {
   "cell_type": "code",
   "execution_count": 3,
   "metadata": {},
   "outputs": [
    {
     "name": "stdout",
     "output_type": "stream",
     "text": [
      "Hello\n",
      "What is your name ?\n",
      "Anurag\n",
      "It's good to meet you Anurag .\n",
      "The length of your name is : 6\n",
      "What is your age ?\n",
      "8\n",
      "You will be 9 in the coming year.\n"
     ]
    }
   ],
   "source": [
    "#this program says hello and ask for my name \n",
    "\n",
    "print(\"Hello\")\n",
    "\n",
    "print(\"What is your name ?\") #asks for the name \n",
    "name = input() #stores the user input into the 'name' variable\n",
    "\n",
    "#displays the name \n",
    "print(\"It's good to meet you\",name,\".\")\n",
    "\n",
    "#displays the length of the name \n",
    "print(\"The length of your name is :\",len(name))\n",
    "\n",
    "#below line asks for the age \n",
    "print(\"What is your age ?\")\n",
    "age = int(input()) #takes the input from the user and converts into the integer by using int() casting type.\n",
    "\n",
    "#displaying the age \n",
    "print(\"You will be \" + str(age + 1) + \" in the coming year.\")\n",
    "\n"
   ]
  },
  {
   "cell_type": "code",
   "execution_count": null,
   "metadata": {},
   "outputs": [],
   "source": []
  }
 ],
 "metadata": {
  "kernelspec": {
   "display_name": "Python 3",
   "language": "python",
   "name": "python3"
  },
  "language_info": {
   "codemirror_mode": {
    "name": "ipython",
    "version": 3
   },
   "file_extension": ".py",
   "mimetype": "text/x-python",
   "name": "python",
   "nbconvert_exporter": "python",
   "pygments_lexer": "ipython3",
   "version": "3.7.6"
  }
 },
 "nbformat": 4,
 "nbformat_minor": 4
}
